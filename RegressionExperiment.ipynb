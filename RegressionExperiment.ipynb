{
 "cells": [
  {
   "cell_type": "code",
   "execution_count": 1,
   "metadata": {
    "collapsed": true
   },
   "outputs": [],
   "source": [
    "from sklearn.datasets import load_svmlight_file\n",
    "import numpy as np\n",
    "from sklearn.model_selection import train_test_split\n",
    "import matplotlib.pyplot as plt"
   ]
  },
  {
   "cell_type": "code",
   "execution_count": 2,
   "metadata": {},
   "outputs": [],
   "source": [
    "#读取实验数据,X增加一列1\n",
    "def get_data(file):\n",
    "    data = load_svmlight_file(file)\n",
    "    b = np.ones(data[0].toarray().shape[0])\n",
    "    X = np.column_stack((data[0].toarray(), b))\n",
    "    return X, data[1]"
   ]
  },
  {
   "cell_type": "code",
   "execution_count": 3,
   "metadata": {},
   "outputs": [],
   "source": [
    "#线性回归和梯度下降\n",
    "def runLinearRegression(file):\n",
    "    #读取实验数据\n",
    "    X,y = get_data(file)\n",
    "    #将数据集切分为训练集和验证集\n",
    "    x_train, x_valid, y_train, y_valid = train_test_split(X, y, test_size=0.33, random_state=42)\n",
    "    rate = 0.001\n",
    "    #n代表数据量，d代表属性维度\n",
    "    length=X.shape[1]\n",
    "    #线性模型参数初始化--标准正态分布初始化w，w是d维向量\n",
    "    w = [np.random.normal() for i in range(length)]\n",
    "    #x代表一个d维的数据，即一个向量，h(x)返回向量点积结果\n",
    "    def h(x):\n",
    "        return np.dot(w,x);\n",
    "\n",
    "    Jvalid=[]\n",
    "    Jtrain=[]\n",
    "    #迭代n次\n",
    "    #选择Loss函数及对其求导\n",
    "    for i in range(30):\n",
    "        # sum是维度是d的向量，保存n个x的梯度之和\n",
    "        sum = 0\n",
    "        for x, y in zip(x_train, y_train):\n",
    "            sum = sum + rate * (y - h(x)) * x\n",
    "        w = w + sum\n",
    "\n",
    "        #计算所有的hxi,保存在一个数组\n",
    "        array_hxi=np.array([h(xi) for xi in x_valid])\n",
    "        # 计算所有的yi,保存在在一个数组\n",
    "        array_yi=np.array([yi for yi in y_valid])\n",
    "        #计算所有的hxi-yi,保存一个数组\n",
    "        array_d=array_hxi-array_yi\n",
    "        #计算所有的(hxi-yi)的平方,保存在一个数组\n",
    "        array_d2=array_d*array_d\n",
    "        #求array_d2得元素个数\n",
    "        m_valid=array_d2.size\n",
    "        #得到第i次迭代的loss，将所有的(hxi-yi)的平方的数组的元素相加,然后*（1/2m）\n",
    "        loss_i1=0.5*(1.0/m_valid)*np.sum(array_d2)\n",
    "        Jvalid.append(loss_i1)\n",
    "\n",
    "        array_hxi = np.array([h(xi) for xi in x_train])\n",
    "        array_yi = np.array([yi for yi in y_train])\n",
    "        array_d = array_hxi - array_yi\n",
    "        array_d2 = array_d * array_d\n",
    "        m_train = array_d2.size\n",
    "        loss_i2 = 0.5 * (1.0 / m_train) * np.sum(array_d2)\n",
    "        Jtrain.append(loss_i2)\n",
    "\n",
    "    #print(Jvalid[-1])\n",
    "    plt.plot(Jvalid, label='Lvalidation')\n",
    "    plt.plot(Jtrain,label='Ltrain')\n",
    "    plt.legend()\n",
    "    plt.show()"
   ]
  },
  {
   "cell_type": "code",
   "execution_count": 4,
   "metadata": {},
   "outputs": [
    {
     "data": {
      "image/png": "[encoded data removed]",
      "text/plain": [
       "<matplotlib.figure.Figure at 0x1c5f0b82198>"
      ]
     },
     "metadata": {},
     "output_type": "display_data"
    }
   ],
   "source": [
    " runLinearRegression(\"C:\\workspace\\DeepLearningTest\\data\\housing_scale.txt\")"
   ]
  },
  {
   "cell_type": "code",
   "execution_count": null,
   "metadata": {},
   "outputs": [],
   "source": []
  },
  {
   "cell_type": "code",
   "execution_count": null,
   "metadata": {},
   "outputs": [],
   "source": []
  }
 ],
 "metadata": {
  "kernelspec": {
   "display_name": "Python 3",
   "language": "python",
   "name": "python3"
  },
  "language_info": {
   "codemirror_mode": {
    "name": "ipython",
    "version": 3
   },
   "file_extension": ".py",
   "mimetype": "text/x-python",
   "name": "python",
   "nbconvert_exporter": "python",
   "pygments_lexer": "ipython3",
   "version": "3.6.1"
  }
 },
 "nbformat": 4,
 "nbformat_minor": 2
}
