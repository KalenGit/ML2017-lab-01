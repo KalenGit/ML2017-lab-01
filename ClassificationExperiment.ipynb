{
 "cells": [
  {
   "cell_type": "code",
   "execution_count": 1,
   "metadata": {
    "collapsed": true
   },
   "outputs": [],
   "source": [
    "from sklearn.datasets import load_svmlight_file\n",
    "import numpy as np\n",
    "from sklearn.model_selection import train_test_split\n",
    "import matplotlib.pyplot as plt"
   ]
  },
  {
   "cell_type": "code",
   "execution_count": 2,
   "metadata": {},
   "outputs": [],
   "source": [
    "#读取实验数据,X增加一列1\n",
    "def get_data(file):\n",
    "    data = load_svmlight_file(file)\n",
    "    b = np.ones(data[0].toarray().shape[0])\n",
    "    X = np.column_stack((data[0].toarray(), b))\n",
    "    return X, data[1]"
   ]
  },
  {
   "cell_type": "code",
   "execution_count": 3,
   "metadata": {},
   "outputs": [],
   "source": [
    "\n",
    "class LinearClassifier(object):\n",
    "    def __init__(self):\n",
    "        self.W = None\n",
    "\n",
    "class LinearSVM(LinearClassifier):\n",
    "  def loss(self, X_batch, y_batch, reg):\n",
    "    return svm_loss_vectorized(self.W, X_batch, y_batch, reg)\n",
    "\n",
    "  def getloss(self, X, y, X_val, y_val, learning_rate=1e-3, reg=1e-5, num_iters=100):\n",
    "      num_train, dim = X.shape\n",
    "      # 计算类别总数，类别为(0,1...,k)\n",
    "      num_classes = np.max(y) + 1\n",
    "      if self.W is None:\n",
    "          # 初始化W\n",
    "          # np.random.randn(dim, num_classes)从标准正态分布中返回一个或多个样本值\n",
    "          self.W = 0.001 * np.random.randn(dim, int(num_classes))\n",
    "\n",
    "      loss_history_train = []\n",
    "      loss_history_valid = []\n",
    "      # 梯度下降去优化 W\n",
    "      for it in range(num_iters):\n",
    "          # 计算 loss and gradient\n",
    "          loss_train, grad = self.loss(X, y, reg)\n",
    "          loss_history_train.append(loss_train)\n",
    "\n",
    "          loss_valid, grad2 = self.loss(X_val, y_val, reg)\n",
    "          loss_history_valid.append(loss_valid)\n",
    "\n",
    "          # 更新参数\n",
    "          self.W += -learning_rate * grad\n",
    "      return loss_history_train, loss_history_valid\n",
    "#向量化计算梯度\n",
    "def svm_loss_vectorized(W, X, y, reg):\n",
    "  loss = 0.0\n",
    "  # 初始化gradient为0\n",
    "  dW = np.zeros(W.shape)\n",
    "  XW = X.dot(W)\n",
    "  num_train = X.shape[0]\n",
    "  Sy = np.zeros(num_train)\n",
    "#Sy[i]是正确的分类\n",
    "  for i in range(num_train):\n",
    "    Sy[i] = XW[i, y[i]]\n",
    "#deltal设置1(如果一个正确分类的分值和举例它最近的错误分类的分值的差距是deltal)\n",
    "  WX = XW.T - Sy + 1\n",
    "#计算梯度和损失函数\n",
    "  for i in range(num_train):\n",
    "    WX[y[i],i] -= 1\n",
    "\n",
    "  loss = np.sum( WX[WX > 0] )\n",
    "  loss /= num_train\n",
    "\n",
    "  XW = WX.T\n",
    "  num_classes = W.shape[1]\n",
    "  for i in range(num_train):\n",
    "    for j in range(num_classes):\n",
    "      if (XW[i, j] > 0):\n",
    "        dW[:,j] += X[i,:].T\n",
    "        dW[:,y[i]] -= X[i,:].T\n",
    "\n",
    "  dW /= num_train\n",
    "  dW += reg * W\n",
    "  return loss, dW"
   ]
  },
  {
   "cell_type": "code",
   "execution_count": 4,
   "metadata": {},
   "outputs": [],
   "source": [
    "\n",
    "def run_svm(file):\n",
    "    # 读取实验数据,将类别处理成0,1\n",
    "    X, y = get_data(file)\n",
    "    temp = []\n",
    "    for item in y:\n",
    "        if item > 0:\n",
    "            temp.append(1)\n",
    "        else:\n",
    "            temp.append(0)\n",
    "\n",
    "    y = np.array(temp)\n",
    "    #将数据集切分为训练集和验证集\n",
    "    X_train, X_val, y_train, y_val = train_test_split(X, y, test_size=0.33, random_state=42)\n",
    "    #学习率和正则化参数\n",
    "    learning_rates = 0.1\n",
    "    regularization_strengths = 1\n",
    "\n",
    "    #保存每次迭代时候的loss\n",
    "    loss_train=[]\n",
    "    loss_valid=[]\n",
    "    #迭代次数\n",
    "    iters = 30\n",
    "    svm = LinearSVM()\n",
    "    loss_train,loss_valid=svm.getloss(X_train, y_train, X_val,y_val,learning_rates, regularization_strengths, iters)\n",
    "   # print(loss_train[-1])\n",
    "\n",
    "    plt.plot(loss_valid, label='Lvalidation')\n",
    "    plt.plot(loss_train,label='Ltrain')\n",
    "    plt.legend()\n",
    "    plt.show()\n",
    "    plt.show()"
   ]
  },
  {
   "cell_type": "code",
   "execution_count": 5,
   "metadata": {},
   "outputs": [
    {
     "data": {
      "image/png": "[encoded data removed]",
      "text/plain": [
       "<matplotlib.figure.Figure at 0x1b8bc1d67f0>"
      ]
     },
     "metadata": {},
     "output_type": "display_data"
    }
   ],
   "source": [
    "run_svm(\"C:\\workspace\\DeepLearningTest\\data/australian_scale.txt\")\n",
    "    "
   ]
  },
  {
   "cell_type": "code",
   "execution_count": null,
   "metadata": {},
   "outputs": [],
   "source": []
  }
 ],
 "metadata": {
  "kernelspec": {
   "display_name": "Python 3",
   "language": "python",
   "name": "python3"
  },
  "language_info": {
   "codemirror_mode": {
    "name": "ipython",
    "version": 3
   },
   "file_extension": ".py",
   "mimetype": "text/x-python",
   "name": "python",
   "nbconvert_exporter": "python",
   "pygments_lexer": "ipython3",
   "version": "3.6.1"
  }
 },
 "nbformat": 4,
 "nbformat_minor": 2
}
